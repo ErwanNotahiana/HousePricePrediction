{
 "cells": [
  {
   "cell_type": "code",
   "execution_count": 109,
   "id": "7be6a6a1",
   "metadata": {},
   "outputs": [],
   "source": [
    "import pandas as pd\n",
    "import matplotlib.pyplot as plt\n",
    "from sklearn.linear_model import LinearRegression\n",
    "from sklearn.svm import SVR\n",
    "from sklearn.linear_model import Ridge\n",
    "from sklearn.linear_model import Lasso\n",
    "from sklearn.ensemble import RandomForestRegressor\n",
    "from sklearn.model_selection import train_test_split\n",
    "from sklearn.model_selection import GridSearchCV\n",
    "from sklearn.metrics import mean_squared_error\n",
    "from sklearn.preprocessing import StandardScaler\n",
    "import numpy as np"
   ]
  },
  {
   "cell_type": "markdown",
   "id": "58e54653",
   "metadata": {},
   "source": [
    "## Importation et traitement des données récupérer avec pandas"
   ]
  },
  {
   "cell_type": "code",
   "execution_count": 8,
   "id": "cc215d0a",
   "metadata": {},
   "outputs": [
    {
     "name": "stdout",
     "output_type": "stream",
     "text": [
      "<class 'pandas.core.frame.DataFrame'>\n",
      "RangeIndex: 1273 entries, 0 to 1272\n",
      "Data columns (total 7 columns):\n",
      " #   Column         Non-Null Count  Dtype  \n",
      "---  ------         --------------  -----  \n",
      " 0   bedroom        1247 non-null   float64\n",
      " 1   bathroom       1272 non-null   float64\n",
      " 2   garage         669 non-null    float64\n",
      " 3   parking        388 non-null    float64\n",
      " 4   erf-size       852 non-null    object \n",
      " 5   building-size  919 non-null    object \n",
      " 6   price          1273 non-null   object \n",
      "dtypes: float64(4), object(3)\n",
      "memory usage: 69.7+ KB\n"
     ]
    }
   ],
   "source": [
    "df = pd.read_csv(\"housePriceCapeTown.csv\",sep=\"|\")\n",
    "\n",
    "df.info()"
   ]
  },
  {
   "cell_type": "code",
   "execution_count": 10,
   "id": "4be7f1b8",
   "metadata": {},
   "outputs": [
    {
     "name": "stdout",
     "output_type": "stream",
     "text": [
      "[728]\n"
     ]
    },
    {
     "data": {
      "text/plain": [
       "bedroom                 NaN\n",
       "bathroom                NaN\n",
       "garage                  NaN\n",
       "parking                 NaN\n",
       "erf-size             600 m²\n",
       "building-size           NaN\n",
       "price            R2,995,000\n",
       "Name: 728, dtype: object"
      ]
     },
     "execution_count": 10,
     "metadata": {},
     "output_type": "execute_result"
    }
   ],
   "source": [
    "print(df[df[\"bathroom\"].isna()].index.tolist())\n",
    "\n",
    "df.loc[728]"
   ]
  },
  {
   "cell_type": "code",
   "execution_count": 11,
   "id": "3e0c5f5c",
   "metadata": {},
   "outputs": [],
   "source": [
    "# remarquon que la ligne 728 ne contient qu'un seul feature. elle est pratiquement inutilisable \n",
    "#donc vaut mieux l'enlever\n",
    "\n",
    "df.drop(728,inplace=True)"
   ]
  },
  {
   "cell_type": "code",
   "execution_count": 12,
   "id": "55102f05",
   "metadata": {},
   "outputs": [
    {
     "data": {
      "text/plain": [
       "0.0     603\n",
       "2.0     339\n",
       "1.0     194\n",
       "3.0      73\n",
       "4.0      42\n",
       "5.0      10\n",
       "6.0       6\n",
       "10.0      3\n",
       "8.0       2\n",
       "Name: garage, dtype: int64"
      ]
     },
     "execution_count": 12,
     "metadata": {},
     "output_type": "execute_result"
    }
   ],
   "source": [
    "#cleaning NaN in the features garage and parking\n",
    "df[\"garage\"] = df[\"garage\"].fillna(0)\n",
    "df[\"parking\"] = df[\"parking\"].fillna(0)\n",
    "df[\"garage\"].value_counts()"
   ]
  },
  {
   "cell_type": "code",
   "execution_count": 13,
   "id": "4f85d225",
   "metadata": {},
   "outputs": [
    {
     "data": {
      "text/html": [
       "<div>\n",
       "<style scoped>\n",
       "    .dataframe tbody tr th:only-of-type {\n",
       "        vertical-align: middle;\n",
       "    }\n",
       "\n",
       "    .dataframe tbody tr th {\n",
       "        vertical-align: top;\n",
       "    }\n",
       "\n",
       "    .dataframe thead th {\n",
       "        text-align: right;\n",
       "    }\n",
       "</style>\n",
       "<table border=\"1\" class=\"dataframe\">\n",
       "  <thead>\n",
       "    <tr style=\"text-align: right;\">\n",
       "      <th></th>\n",
       "      <th>bedroom</th>\n",
       "      <th>bathroom</th>\n",
       "      <th>garage</th>\n",
       "      <th>parking</th>\n",
       "      <th>erf-size</th>\n",
       "      <th>building-size</th>\n",
       "      <th>price</th>\n",
       "    </tr>\n",
       "  </thead>\n",
       "  <tbody>\n",
       "    <tr>\n",
       "      <th>0</th>\n",
       "      <td>6.0</td>\n",
       "      <td>6.0</td>\n",
       "      <td>8.0</td>\n",
       "      <td>0.0</td>\n",
       "      <td>5965</td>\n",
       "      <td>1,700 m²</td>\n",
       "      <td>R100,000,000</td>\n",
       "    </tr>\n",
       "    <tr>\n",
       "      <th>1</th>\n",
       "      <td>5.0</td>\n",
       "      <td>6.0</td>\n",
       "      <td>10.0</td>\n",
       "      <td>0.0</td>\n",
       "      <td>1241</td>\n",
       "      <td>1,800 m²</td>\n",
       "      <td>POA</td>\n",
       "    </tr>\n",
       "    <tr>\n",
       "      <th>2</th>\n",
       "      <td>4.0</td>\n",
       "      <td>6.0</td>\n",
       "      <td>3.0</td>\n",
       "      <td>0.0</td>\n",
       "      <td>818</td>\n",
       "      <td>900 m²</td>\n",
       "      <td>R85,000,000</td>\n",
       "    </tr>\n",
       "    <tr>\n",
       "      <th>3</th>\n",
       "      <td>4.0</td>\n",
       "      <td>4.5</td>\n",
       "      <td>2.0</td>\n",
       "      <td>2.0</td>\n",
       "      <td>721</td>\n",
       "      <td>780 m²</td>\n",
       "      <td>R85,000,000</td>\n",
       "    </tr>\n",
       "    <tr>\n",
       "      <th>4</th>\n",
       "      <td>5.0</td>\n",
       "      <td>4.5</td>\n",
       "      <td>3.0</td>\n",
       "      <td>0.0</td>\n",
       "      <td>579</td>\n",
       "      <td>625 m²</td>\n",
       "      <td>R82,800,000</td>\n",
       "    </tr>\n",
       "    <tr>\n",
       "      <th>...</th>\n",
       "      <td>...</td>\n",
       "      <td>...</td>\n",
       "      <td>...</td>\n",
       "      <td>...</td>\n",
       "      <td>...</td>\n",
       "      <td>...</td>\n",
       "      <td>...</td>\n",
       "    </tr>\n",
       "    <tr>\n",
       "      <th>1268</th>\n",
       "      <td>3.0</td>\n",
       "      <td>1.0</td>\n",
       "      <td>0.0</td>\n",
       "      <td>0.0</td>\n",
       "      <td>248</td>\n",
       "      <td>NaN</td>\n",
       "      <td>R420,000</td>\n",
       "    </tr>\n",
       "    <tr>\n",
       "      <th>1269</th>\n",
       "      <td>3.0</td>\n",
       "      <td>1.0</td>\n",
       "      <td>0.0</td>\n",
       "      <td>0.0</td>\n",
       "      <td>148</td>\n",
       "      <td>NaN</td>\n",
       "      <td>R400,000</td>\n",
       "    </tr>\n",
       "    <tr>\n",
       "      <th>1270</th>\n",
       "      <td>3.0</td>\n",
       "      <td>1.0</td>\n",
       "      <td>0.0</td>\n",
       "      <td>0.0</td>\n",
       "      <td>144</td>\n",
       "      <td>NaN</td>\n",
       "      <td>R395,000</td>\n",
       "    </tr>\n",
       "    <tr>\n",
       "      <th>1271</th>\n",
       "      <td>1.0</td>\n",
       "      <td>1.0</td>\n",
       "      <td>0.0</td>\n",
       "      <td>0.0</td>\n",
       "      <td>34</td>\n",
       "      <td>34 m²</td>\n",
       "      <td>R390,000</td>\n",
       "    </tr>\n",
       "    <tr>\n",
       "      <th>1272</th>\n",
       "      <td>1.0</td>\n",
       "      <td>1.0</td>\n",
       "      <td>0.0</td>\n",
       "      <td>0.0</td>\n",
       "      <td>34</td>\n",
       "      <td>34 m²</td>\n",
       "      <td>R370,000</td>\n",
       "    </tr>\n",
       "  </tbody>\n",
       "</table>\n",
       "<p>1272 rows × 7 columns</p>\n",
       "</div>"
      ],
      "text/plain": [
       "      bedroom  bathroom  garage  parking  erf-size building-size         price\n",
       "0         6.0       6.0     8.0      0.0      5965      1,700 m²  R100,000,000\n",
       "1         5.0       6.0    10.0      0.0      1241      1,800 m²           POA\n",
       "2         4.0       6.0     3.0      0.0       818        900 m²   R85,000,000\n",
       "3         4.0       4.5     2.0      2.0       721        780 m²   R85,000,000\n",
       "4         5.0       4.5     3.0      0.0       579        625 m²   R82,800,000\n",
       "...       ...       ...     ...      ...       ...           ...           ...\n",
       "1268      3.0       1.0     0.0      0.0       248           NaN      R420,000\n",
       "1269      3.0       1.0     0.0      0.0       148           NaN      R400,000\n",
       "1270      3.0       1.0     0.0      0.0       144           NaN      R395,000\n",
       "1271      1.0       1.0     0.0      0.0        34         34 m²      R390,000\n",
       "1272      1.0       1.0     0.0      0.0        34         34 m²      R370,000\n",
       "\n",
       "[1272 rows x 7 columns]"
      ]
     },
     "execution_count": 13,
     "metadata": {},
     "output_type": "execute_result"
    }
   ],
   "source": [
    "#cleaning the features erf-size\n",
    "df[\"erf-size\"] = df[\"erf-size\"].fillna(\"0m2\")\n",
    "df[\"erf-size\"] = df[\"erf-size\"].str[:-2].str.replace(\",\",\"\").astype(int)\n",
    "\n",
    "df"
   ]
  },
  {
   "cell_type": "code",
   "execution_count": 14,
   "id": "f1ae7c64",
   "metadata": {},
   "outputs": [
    {
     "data": {
      "text/html": [
       "<div>\n",
       "<style scoped>\n",
       "    .dataframe tbody tr th:only-of-type {\n",
       "        vertical-align: middle;\n",
       "    }\n",
       "\n",
       "    .dataframe tbody tr th {\n",
       "        vertical-align: top;\n",
       "    }\n",
       "\n",
       "    .dataframe thead th {\n",
       "        text-align: right;\n",
       "    }\n",
       "</style>\n",
       "<table border=\"1\" class=\"dataframe\">\n",
       "  <thead>\n",
       "    <tr style=\"text-align: right;\">\n",
       "      <th></th>\n",
       "      <th>bedroom</th>\n",
       "      <th>bathroom</th>\n",
       "      <th>garage</th>\n",
       "      <th>parking</th>\n",
       "      <th>erf-size</th>\n",
       "      <th>building-size</th>\n",
       "      <th>price</th>\n",
       "    </tr>\n",
       "  </thead>\n",
       "  <tbody>\n",
       "    <tr>\n",
       "      <th>0</th>\n",
       "      <td>6.0</td>\n",
       "      <td>6.0</td>\n",
       "      <td>8.0</td>\n",
       "      <td>0.0</td>\n",
       "      <td>5965</td>\n",
       "      <td>1,700 m²</td>\n",
       "      <td>100000000</td>\n",
       "    </tr>\n",
       "    <tr>\n",
       "      <th>2</th>\n",
       "      <td>4.0</td>\n",
       "      <td>6.0</td>\n",
       "      <td>3.0</td>\n",
       "      <td>0.0</td>\n",
       "      <td>818</td>\n",
       "      <td>900 m²</td>\n",
       "      <td>85000000</td>\n",
       "    </tr>\n",
       "    <tr>\n",
       "      <th>3</th>\n",
       "      <td>4.0</td>\n",
       "      <td>4.5</td>\n",
       "      <td>2.0</td>\n",
       "      <td>2.0</td>\n",
       "      <td>721</td>\n",
       "      <td>780 m²</td>\n",
       "      <td>85000000</td>\n",
       "    </tr>\n",
       "    <tr>\n",
       "      <th>4</th>\n",
       "      <td>5.0</td>\n",
       "      <td>4.5</td>\n",
       "      <td>3.0</td>\n",
       "      <td>0.0</td>\n",
       "      <td>579</td>\n",
       "      <td>625 m²</td>\n",
       "      <td>82800000</td>\n",
       "    </tr>\n",
       "    <tr>\n",
       "      <th>5</th>\n",
       "      <td>5.0</td>\n",
       "      <td>5.5</td>\n",
       "      <td>3.0</td>\n",
       "      <td>0.0</td>\n",
       "      <td>705</td>\n",
       "      <td>NaN</td>\n",
       "      <td>75000000</td>\n",
       "    </tr>\n",
       "    <tr>\n",
       "      <th>...</th>\n",
       "      <td>...</td>\n",
       "      <td>...</td>\n",
       "      <td>...</td>\n",
       "      <td>...</td>\n",
       "      <td>...</td>\n",
       "      <td>...</td>\n",
       "      <td>...</td>\n",
       "    </tr>\n",
       "    <tr>\n",
       "      <th>1268</th>\n",
       "      <td>3.0</td>\n",
       "      <td>1.0</td>\n",
       "      <td>0.0</td>\n",
       "      <td>0.0</td>\n",
       "      <td>248</td>\n",
       "      <td>NaN</td>\n",
       "      <td>420000</td>\n",
       "    </tr>\n",
       "    <tr>\n",
       "      <th>1269</th>\n",
       "      <td>3.0</td>\n",
       "      <td>1.0</td>\n",
       "      <td>0.0</td>\n",
       "      <td>0.0</td>\n",
       "      <td>148</td>\n",
       "      <td>NaN</td>\n",
       "      <td>400000</td>\n",
       "    </tr>\n",
       "    <tr>\n",
       "      <th>1270</th>\n",
       "      <td>3.0</td>\n",
       "      <td>1.0</td>\n",
       "      <td>0.0</td>\n",
       "      <td>0.0</td>\n",
       "      <td>144</td>\n",
       "      <td>NaN</td>\n",
       "      <td>395000</td>\n",
       "    </tr>\n",
       "    <tr>\n",
       "      <th>1271</th>\n",
       "      <td>1.0</td>\n",
       "      <td>1.0</td>\n",
       "      <td>0.0</td>\n",
       "      <td>0.0</td>\n",
       "      <td>34</td>\n",
       "      <td>34 m²</td>\n",
       "      <td>390000</td>\n",
       "    </tr>\n",
       "    <tr>\n",
       "      <th>1272</th>\n",
       "      <td>1.0</td>\n",
       "      <td>1.0</td>\n",
       "      <td>0.0</td>\n",
       "      <td>0.0</td>\n",
       "      <td>34</td>\n",
       "      <td>34 m²</td>\n",
       "      <td>370000</td>\n",
       "    </tr>\n",
       "  </tbody>\n",
       "</table>\n",
       "<p>1266 rows × 7 columns</p>\n",
       "</div>"
      ],
      "text/plain": [
       "      bedroom  bathroom  garage  parking  erf-size building-size      price\n",
       "0         6.0       6.0     8.0      0.0      5965      1,700 m²  100000000\n",
       "2         4.0       6.0     3.0      0.0       818        900 m²   85000000\n",
       "3         4.0       4.5     2.0      2.0       721        780 m²   85000000\n",
       "4         5.0       4.5     3.0      0.0       579        625 m²   82800000\n",
       "5         5.0       5.5     3.0      0.0       705           NaN   75000000\n",
       "...       ...       ...     ...      ...       ...           ...        ...\n",
       "1268      3.0       1.0     0.0      0.0       248           NaN     420000\n",
       "1269      3.0       1.0     0.0      0.0       148           NaN     400000\n",
       "1270      3.0       1.0     0.0      0.0       144           NaN     395000\n",
       "1271      1.0       1.0     0.0      0.0        34         34 m²     390000\n",
       "1272      1.0       1.0     0.0      0.0        34         34 m²     370000\n",
       "\n",
       "[1266 rows x 7 columns]"
      ]
     },
     "execution_count": 14,
     "metadata": {},
     "output_type": "execute_result"
    }
   ],
   "source": [
    "#cleaning price\n",
    "##effacer les maisons avec un prix POA\n",
    "index = df[df[\"price\"]==\"POA\"].index\n",
    "df.drop(index,inplace=True)\n",
    "df[\"price\"] = df[\"price\"].str[1:].str.replace(\",\",\"\").astype(int)\n",
    "\n",
    "df"
   ]
  },
  {
   "cell_type": "code",
   "execution_count": 15,
   "id": "1f30b802",
   "metadata": {},
   "outputs": [
    {
     "name": "stdout",
     "output_type": "stream",
     "text": [
      "<class 'pandas.core.frame.DataFrame'>\n",
      "Int64Index: 1266 entries, 0 to 1272\n",
      "Data columns (total 7 columns):\n",
      " #   Column         Non-Null Count  Dtype  \n",
      "---  ------         --------------  -----  \n",
      " 0   bedroom        1241 non-null   float64\n",
      " 1   bathroom       1266 non-null   float64\n",
      " 2   garage         1266 non-null   float64\n",
      " 3   parking        1266 non-null   float64\n",
      " 4   erf-size       1266 non-null   int64  \n",
      " 5   building-size  1266 non-null   int64  \n",
      " 6   price          1266 non-null   int64  \n",
      "dtypes: float64(4), int64(3)\n",
      "memory usage: 79.1 KB\n"
     ]
    }
   ],
   "source": [
    "#cleaning the feature building-size \n",
    "df[\"building-size\"] = df[\"building-size\"].fillna(\"0m2\")\n",
    "df[\"building-size\"] = df[\"building-size\"].str[:-2].str.replace(\",\",\"\").astype(int)\n",
    "\n",
    "df.info()"
   ]
  },
  {
   "cell_type": "code",
   "execution_count": 16,
   "id": "c8172e27",
   "metadata": {},
   "outputs": [
    {
     "name": "stderr",
     "output_type": "stream",
     "text": [
      "/tmp/ipykernel_6925/1496670469.py:7: SettingWithCopyWarning: \n",
      "A value is trying to be set on a copy of a slice from a DataFrame\n",
      "\n",
      "See the caveats in the documentation: https://pandas.pydata.org/pandas-docs/stable/user_guide/indexing.html#returning-a-view-versus-a-copy\n",
      "  df[\"building-size\"][index_nan[i]] = data\n"
     ]
    },
    {
     "data": {
      "text/plain": [
       "3.0     356\n",
       "2.0     318\n",
       "4.0     231\n",
       "1.0     150\n",
       "5.0     122\n",
       "6.0      41\n",
       "7.0      11\n",
       "8.0       8\n",
       "10.0      2\n",
       "9.0       1\n",
       "11.0      1\n",
       "Name: bedroom, dtype: int64"
      ]
     },
     "execution_count": 16,
     "metadata": {},
     "output_type": "execute_result"
    }
   ],
   "source": [
    "### cleaning building-size feature which has an high correlation with the bathroom\n",
    "index_nan = df[df[\"building-size\"]==0].index\n",
    "\n",
    "for i in range(len(index_nan)):\n",
    "    donnee = df[df[\"bathroom\"] == df[\"bathroom\"][index_nan[i]]]\n",
    "    data = (np.max(donnee[\"building-size\"]) - np.min(donnee[\"building-size\"]))/2\n",
    "    df[\"building-size\"][index_nan[i]] = data\n",
    "df[\"bedroom\"].value_counts()"
   ]
  },
  {
   "cell_type": "code",
   "execution_count": 26,
   "id": "21cee4de",
   "metadata": {},
   "outputs": [
    {
     "name": "stdout",
     "output_type": "stream",
     "text": [
      "<class 'pandas.core.frame.DataFrame'>\n",
      "Int64Index: 1266 entries, 0 to 1272\n",
      "Data columns (total 7 columns):\n",
      " #   Column         Non-Null Count  Dtype  \n",
      "---  ------         --------------  -----  \n",
      " 0   bedroom        1266 non-null   float64\n",
      " 1   bathroom       1266 non-null   float64\n",
      " 2   garage         1266 non-null   float64\n",
      " 3   parking        1266 non-null   float64\n",
      " 4   erf-size       1266 non-null   int64  \n",
      " 5   building-size  1266 non-null   float64\n",
      " 6   price          1266 non-null   int64  \n",
      "dtypes: float64(5), int64(2)\n",
      "memory usage: 111.4 KB\n"
     ]
    },
    {
     "name": "stderr",
     "output_type": "stream",
     "text": [
      "/tmp/ipykernel_6925/4057715840.py:7: SettingWithCopyWarning: \n",
      "A value is trying to be set on a copy of a slice from a DataFrame\n",
      "\n",
      "See the caveats in the documentation: https://pandas.pydata.org/pandas-docs/stable/user_guide/indexing.html#returning-a-view-versus-a-copy\n",
      "  df[\"bedroom\"][index_nan[i]] = data\n"
     ]
    }
   ],
   "source": [
    "### cleaning bedroom feature \n",
    "index_nan = df[df[\"bedroom\"].isna()].index.tolist()\n",
    "\n",
    "for i in range(len(index_nan)):\n",
    "    donnee = df[df[\"bathroom\"] == df[\"bathroom\"][index_nan[i]]]\n",
    "    data = (np.max(donnee[\"bedroom\"]) - np.min(donnee[\"bedroom\"]))/2\n",
    "    df[\"bedroom\"][index_nan[i]] = data\n",
    "df.info()"
   ]
  },
  {
   "cell_type": "code",
   "execution_count": 27,
   "id": "6e425c4d",
   "metadata": {},
   "outputs": [
    {
     "data": {
      "text/html": [
       "<div>\n",
       "<style scoped>\n",
       "    .dataframe tbody tr th:only-of-type {\n",
       "        vertical-align: middle;\n",
       "    }\n",
       "\n",
       "    .dataframe tbody tr th {\n",
       "        vertical-align: top;\n",
       "    }\n",
       "\n",
       "    .dataframe thead th {\n",
       "        text-align: right;\n",
       "    }\n",
       "</style>\n",
       "<table border=\"1\" class=\"dataframe\">\n",
       "  <thead>\n",
       "    <tr style=\"text-align: right;\">\n",
       "      <th></th>\n",
       "      <th>bedroom</th>\n",
       "      <th>bathroom</th>\n",
       "      <th>garage</th>\n",
       "      <th>parking</th>\n",
       "      <th>erf-size</th>\n",
       "      <th>building-size</th>\n",
       "      <th>price</th>\n",
       "    </tr>\n",
       "  </thead>\n",
       "  <tbody>\n",
       "    <tr>\n",
       "      <th>count</th>\n",
       "      <td>1266.000000</td>\n",
       "      <td>1266.000000</td>\n",
       "      <td>1266.000000</td>\n",
       "      <td>1266.000000</td>\n",
       "      <td>1266.000000</td>\n",
       "      <td>1266.000000</td>\n",
       "      <td>1.266000e+03</td>\n",
       "    </tr>\n",
       "    <tr>\n",
       "      <th>mean</th>\n",
       "      <td>3.052923</td>\n",
       "      <td>2.430095</td>\n",
       "      <td>1.078989</td>\n",
       "      <td>0.544234</td>\n",
       "      <td>713.736177</td>\n",
       "      <td>244.206951</td>\n",
       "      <td>7.626214e+06</td>\n",
       "    </tr>\n",
       "    <tr>\n",
       "      <th>std</th>\n",
       "      <td>1.434045</td>\n",
       "      <td>1.492157</td>\n",
       "      <td>1.297642</td>\n",
       "      <td>1.072113</td>\n",
       "      <td>3967.388422</td>\n",
       "      <td>208.503560</td>\n",
       "      <td>1.079610e+07</td>\n",
       "    </tr>\n",
       "    <tr>\n",
       "      <th>min</th>\n",
       "      <td>1.000000</td>\n",
       "      <td>1.000000</td>\n",
       "      <td>0.000000</td>\n",
       "      <td>0.000000</td>\n",
       "      <td>0.000000</td>\n",
       "      <td>0.000000</td>\n",
       "      <td>3.700000e+05</td>\n",
       "    </tr>\n",
       "    <tr>\n",
       "      <th>25%</th>\n",
       "      <td>2.000000</td>\n",
       "      <td>1.000000</td>\n",
       "      <td>0.000000</td>\n",
       "      <td>0.000000</td>\n",
       "      <td>0.000000</td>\n",
       "      <td>88.250000</td>\n",
       "      <td>1.875000e+06</td>\n",
       "    </tr>\n",
       "    <tr>\n",
       "      <th>50%</th>\n",
       "      <td>3.000000</td>\n",
       "      <td>2.000000</td>\n",
       "      <td>1.000000</td>\n",
       "      <td>0.000000</td>\n",
       "      <td>240.000000</td>\n",
       "      <td>161.500000</td>\n",
       "      <td>3.750000e+06</td>\n",
       "    </tr>\n",
       "    <tr>\n",
       "      <th>75%</th>\n",
       "      <td>4.000000</td>\n",
       "      <td>3.000000</td>\n",
       "      <td>2.000000</td>\n",
       "      <td>1.000000</td>\n",
       "      <td>731.500000</td>\n",
       "      <td>356.000000</td>\n",
       "      <td>8.500000e+06</td>\n",
       "    </tr>\n",
       "    <tr>\n",
       "      <th>max</th>\n",
       "      <td>11.000000</td>\n",
       "      <td>11.000000</td>\n",
       "      <td>10.000000</td>\n",
       "      <td>13.000000</td>\n",
       "      <td>132497.000000</td>\n",
       "      <td>1700.000000</td>\n",
       "      <td>1.000000e+08</td>\n",
       "    </tr>\n",
       "  </tbody>\n",
       "</table>\n",
       "</div>"
      ],
      "text/plain": [
       "           bedroom     bathroom       garage      parking       erf-size  \\\n",
       "count  1266.000000  1266.000000  1266.000000  1266.000000    1266.000000   \n",
       "mean      3.052923     2.430095     1.078989     0.544234     713.736177   \n",
       "std       1.434045     1.492157     1.297642     1.072113    3967.388422   \n",
       "min       1.000000     1.000000     0.000000     0.000000       0.000000   \n",
       "25%       2.000000     1.000000     0.000000     0.000000       0.000000   \n",
       "50%       3.000000     2.000000     1.000000     0.000000     240.000000   \n",
       "75%       4.000000     3.000000     2.000000     1.000000     731.500000   \n",
       "max      11.000000    11.000000    10.000000    13.000000  132497.000000   \n",
       "\n",
       "       building-size         price  \n",
       "count    1266.000000  1.266000e+03  \n",
       "mean      244.206951  7.626214e+06  \n",
       "std       208.503560  1.079610e+07  \n",
       "min         0.000000  3.700000e+05  \n",
       "25%        88.250000  1.875000e+06  \n",
       "50%       161.500000  3.750000e+06  \n",
       "75%       356.000000  8.500000e+06  \n",
       "max      1700.000000  1.000000e+08  "
      ]
     },
     "execution_count": 27,
     "metadata": {},
     "output_type": "execute_result"
    }
   ],
   "source": [
    "corr = df.corr()\n",
    "df.describe()"
   ]
  },
  {
   "cell_type": "code",
   "execution_count": 28,
   "id": "43548804",
   "metadata": {
    "scrolled": true
   },
   "outputs": [
    {
     "data": {
      "text/plain": [
       "price            1.000000\n",
       "building-size    0.598662\n",
       "bathroom         0.584839\n",
       "bedroom          0.409241\n",
       "garage           0.368251\n",
       "parking          0.150752\n",
       "erf-size         0.059889\n",
       "Name: price, dtype: float64"
      ]
     },
     "execution_count": 28,
     "metadata": {},
     "output_type": "execute_result"
    }
   ],
   "source": [
    "corr[\"price\"].sort_values(ascending=False)"
   ]
  },
  {
   "cell_type": "markdown",
   "id": "4538bfcd",
   "metadata": {},
   "source": [
    "# Exploration et visualisation de données"
   ]
  },
  {
   "cell_type": "code",
   "execution_count": 122,
   "id": "450b7bf2",
   "metadata": {},
   "outputs": [
    {
     "data": {
      "image/png": "[encoded data removed]",
      "text/plain": [
       "<Figure size 1800x1080 with 9 Axes>"
      ]
     },
     "metadata": {
      "needs_background": "light"
     },
     "output_type": "display_data"
    }
   ],
   "source": [
    "df.hist(bins = 50 , figsize = (25,15))\n",
    "plt.show()"
   ]
  },
  {
   "cell_type": "markdown",
   "id": "83dc4979",
   "metadata": {},
   "source": [
    "# Interprétation des graphes ci-dessus"
   ]
  },
  {
   "cell_type": "markdown",
   "id": "df322bdc",
   "metadata": {},
   "source": [
    "Dans la figure bedroom, bathroom, garage, parking, price :\n",
    "\n",
    "    On voit que beaucoup de maisons possèdent 3 bedroom et 1 bathroom,\n",
    "    des maisons qui n'ont presque pas de garage et de parking.\n",
    "    On remarque qu'il y a aussi des maisons à des prix abordable entre ]1050000, 4950000[\n",
    "    \n",
    "Dans la figure erf-size et building-size:\n",
    "\n",
    "    Il y a beaucoup d'appartement qui n'ont pas de cours.\n",
    "    Et il y a aussi des maisons avec des cours.\n",
    "    "
   ]
  },
  {
   "cell_type": "markdown",
   "id": "2045899d",
   "metadata": {},
   "source": [
    "### Représentation en nuages de points de chaque features avec le prix"
   ]
  },
  {
   "cell_type": "code",
   "execution_count": 124,
   "id": "4b8d6ffc",
   "metadata": {},
   "outputs": [
    {
     "data": {
      "image/png": "[encoded data removed]",
      "text/plain": [
       "<Figure size 432x288 with 1 Axes>"
      ]
     },
     "metadata": {
      "needs_background": "light"
     },
     "output_type": "display_data"
    }
   ],
   "source": [
    "df.plot.scatter(\"bedroom\", \"price\")\n",
    "plt.show()"
   ]
  },
  {
   "cell_type": "markdown",
   "id": "97315a3c",
   "metadata": {},
   "source": [
    "Le graphe ci-dessus montre que le feature \"bedroom\" a une légère relation avec le prix, ce qui n'influence pas le prix."
   ]
  },
  {
   "cell_type": "code",
   "execution_count": 125,
   "id": "5540e456",
   "metadata": {},
   "outputs": [
    {
     "data": {
      "image/png": "[encoded data removed]",
      "text/plain": [
       "<Figure size 432x288 with 1 Axes>"
      ]
     },
     "metadata": {
      "needs_background": "light"
     },
     "output_type": "display_data"
    }
   ],
   "source": [
    "df.plot.scatter(\"bathroom\", \"price\")\n",
    "plt.show()"
   ]
  },
  {
   "cell_type": "markdown",
   "id": "a3086fb1",
   "metadata": {},
   "source": [
    "Le graphe ci-dessus montre que le feature \"bathroom\" a une relation moyenne avec le prix, ce qui peut affecter le prix de la maison."
   ]
  },
  {
   "cell_type": "code",
   "execution_count": 126,
   "id": "cdffc57f",
   "metadata": {},
   "outputs": [
    {
     "data": {
      "image/png": "[encoded data removed]",
      "text/plain": [
       "<Figure size 432x288 with 1 Axes>"
      ]
     },
     "metadata": {
      "needs_background": "light"
     },
     "output_type": "display_data"
    }
   ],
   "source": [
    "df.plot.scatter(\"parking\", \"price\")\n",
    "plt.show()"
   ]
  },
  {
   "cell_type": "markdown",
   "id": "51fbe74b",
   "metadata": {},
   "source": [
    "Le graphe ci-dessus montre que le feature \"parking\" a une faible relation avec le prix."
   ]
  },
  {
   "cell_type": "code",
   "execution_count": 127,
   "id": "2a90b39c",
   "metadata": {},
   "outputs": [
    {
     "data": {
      "image/png": "[encoded data removed]",
      "text/plain": [
       "<Figure size 432x288 with 1 Axes>"
      ]
     },
     "metadata": {
      "needs_background": "light"
     },
     "output_type": "display_data"
    }
   ],
   "source": [
    "df.plot.scatter(\"garage\", \"price\")\n",
    "plt.show()"
   ]
  },
  {
   "cell_type": "markdown",
   "id": "8f48962d",
   "metadata": {},
   "source": [
    "Le graphe ci-dessus montre que le feature \"garage\" a une faible relation avec le prix."
   ]
  },
  {
   "cell_type": "code",
   "execution_count": 128,
   "id": "8f0f6aa9",
   "metadata": {},
   "outputs": [
    {
     "data": {
      "image/png": "[encoded data removed]",
      "text/plain": [
       "<Figure size 432x288 with 1 Axes>"
      ]
     },
     "metadata": {
      "needs_background": "light"
     },
     "output_type": "display_data"
    }
   ],
   "source": [
    "df.plot.scatter(\"erf-size\", \"price\")\n",
    "plt.show()"
   ]
  },
  {
   "cell_type": "markdown",
   "id": "fe0b1c69",
   "metadata": {},
   "source": [
    "Le graphe ci-dessus montre que le feature \"erf-size\" a une très faible relation avec le prix de la maison"
   ]
  },
  {
   "cell_type": "code",
   "execution_count": 129,
   "id": "7ee9229c",
   "metadata": {},
   "outputs": [
    {
     "data": {
      "image/png": "[encoded data removed]",
      "text/plain": [
       "<Figure size 432x288 with 1 Axes>"
      ]
     },
     "metadata": {
      "needs_background": "light"
     },
     "output_type": "display_data"
    }
   ],
   "source": [
    "df.plot.scatter(\"building-size\", \"price\")\n",
    "plt.show()"
   ]
  },
  {
   "cell_type": "markdown",
   "id": "1d4732a1",
   "metadata": {},
   "source": [
    "Le graphe ci-dessus montre que le feature \"building-size\" a une relation moyenne avec le prix, ce qui peut affecter le prix de la maison."
   ]
  },
  {
   "cell_type": "markdown",
   "id": "687911af",
   "metadata": {},
   "source": [
    "### INTERPRETATION DE DONNEES"
   ]
  },
  {
   "cell_type": "markdown",
   "id": "3823fa02",
   "metadata": {},
   "source": [
    "Les histogrammes ci-dessus montrent les valeurs de chaque attribut(features) pour l'ensemble de données colléctées"
   ]
  },
  {
   "cell_type": "code",
   "execution_count": 31,
   "id": "e63cf786",
   "metadata": {},
   "outputs": [
    {
     "data": {
      "text/plain": [
       "array([[ 2.05589204e+00,  2.39339166e+00,  5.33563714e+00,\n",
       "        -5.07828119e-01,  1.32413025e+00,  6.98486082e+00],\n",
       "       [ 6.60684684e-01,  2.39339166e+00,  1.48097119e+00,\n",
       "        -5.07828119e-01,  2.62906010e-02,  3.14647963e+00],\n",
       "       [ 6.60684684e-01,  1.38773821e+00,  7.10037995e-01,\n",
       "         1.35838494e+00,  1.83160629e-03,  2.57072245e+00],\n",
       "       ...,\n",
       "       [-3.69189940e-02, -9.58786502e-01, -8.31828388e-01,\n",
       "        -5.07828119e-01, -1.43661589e-01, -6.43921795e-01],\n",
       "       [-1.43212635e+00, -9.58786502e-01, -8.31828388e-01,\n",
       "        -5.07828119e-01, -1.71398593e-01, -1.00856801e+00],\n",
       "       [-1.43212635e+00, -9.58786502e-01, -8.31828388e-01,\n",
       "        -5.07828119e-01, -1.71398593e-01, -1.00856801e+00]])"
      ]
     },
     "execution_count": 31,
     "metadata": {},
     "output_type": "execute_result"
    }
   ],
   "source": [
    "#standard scaler \n",
    "scaler = StandardScaler()\n",
    "df1 = scaler.fit_transform(df[[\"bedroom\",\"bathroom\",\"garage\",\"parking\",\"erf-size\",\"building-size\"]])\n",
    "df1"
   ]
  },
  {
   "cell_type": "markdown",
   "id": "1bf52f0e",
   "metadata": {},
   "source": [
    "### Choix du modèle efficace "
   ]
  },
  {
   "cell_type": "code",
   "execution_count": 32,
   "id": "53ee544c",
   "metadata": {},
   "outputs": [],
   "source": [
    "\n",
    "X_train ,X_test,y_train,y_test = train_test_split(df1,df[\"price\"],test_size= 0.2,random_state=42)\n",
    "performance = []"
   ]
  },
  {
   "cell_type": "markdown",
   "id": "77a495d5",
   "metadata": {},
   "source": [
    "## Linear Regression"
   ]
  },
  {
   "cell_type": "code",
   "execution_count": 119,
   "id": "cd7aa496",
   "metadata": {},
   "outputs": [
    {
     "name": "stdout",
     "output_type": "stream",
     "text": [
      "MSE linear regression: 0.4725164516517228\n",
      "MSE linear regression: 0.47442352845476354\n"
     ]
    }
   ],
   "source": [
    "model = LinearRegression()\n",
    "model.fit(X_train,np.log(y_train))\n",
    "\n",
    "pred = model.predict(X_test)\n",
    "\n",
    "print(f\"MSE linear regression: {mean_squared_error(pred,np.log(y_test))}\")\n",
    "performance.append()"
   ]
  },
  {
   "cell_type": "markdown",
   "id": "028efbc0",
   "metadata": {},
   "source": [
    "## Ridge Regression"
   ]
  },
  {
   "cell_type": "code",
   "execution_count": 121,
   "id": "dc9ed5b5",
   "metadata": {},
   "outputs": [
    {
     "name": "stdout",
     "output_type": "stream",
     "text": [
      "Meilleur hyperparamètre pour un modele de Ridge regression: {'alpha': 18}\n"
     ]
    },
    {
     "data": {
      "image/png": "[encoded data removed]",
      "text/plain": [
       "<Figure size 432x288 with 1 Axes>"
      ]
     },
     "metadata": {
      "needs_background": "light"
     },
     "output_type": "display_data"
    },
    {
     "name": "stdout",
     "output_type": "stream",
     "text": [
      "Pourcentage: 0.5845597881440848\n",
      "MSE Ridge: 0.46608475068023447\n"
     ]
    }
   ],
   "source": [
    "hyperparametre={\"alpha\":[2,4,6,8,10,12,14,16,18,20,22,24]}\n",
    "tuned_ridge = GridSearchCV(Ridge(),hyperparametre,scoring=\"neg_mean_squared_error\",cv=5,return_train_score=True)\n",
    "\n",
    "tuned_ridge.fit(X_train,np.log(y_train))\n",
    "\n",
    "\n",
    "\n",
    "print(f\"Meilleur hyperparamètre pour un modele de Ridge regression: {tuned_ridge.best_params_}\")\n",
    "model_ridge = tuned_ridge.best_estimator_\n",
    "\n",
    "model_ridge.fit(X_train,np.log(y_train))\n",
    "pred_ridge = model_ridge.predict(X_test)\n",
    "\n",
    "test_scores = tuned_ridge.cv_results_['mean_test_score']\n",
    "train_scores = tuned_ridge.cv_results_['mean_train_score'] \n",
    "\n",
    "\n",
    "plt.plot(hyperparametre[\"alpha\"],test_scores ,label='test')\n",
    "plt.plot(hyperparametre[\"alpha\"],train_scores, label='train')\n",
    "\n",
    "plt.show()\n",
    "\n",
    "\n",
    "print(f\"Pourcentage: {model_ridge.score(X_test,np.log(y_test))}\")\n",
    "\n",
    "print(f\"MSE Ridge: {mean_squared_error(pred_ridge,np.log(y_test))}\")\n"
   ]
  },
  {
   "cell_type": "markdown",
   "id": "a0e32f7a",
   "metadata": {},
   "source": [
    "## Lasso"
   ]
  },
  {
   "cell_type": "code",
   "execution_count": 114,
   "id": "937818ba",
   "metadata": {},
   "outputs": [
    {
     "name": "stdout",
     "output_type": "stream",
     "text": [
      "Meilleur hyperparamètre pour un modele Lasso Regression: {'alpha': 0.1}\n"
     ]
    },
    {
     "data": {
      "image/png": "[encoded data removed]",
      "text/plain": [
       "<Figure size 432x288 with 1 Axes>"
      ]
     },
     "metadata": {
      "needs_background": "light"
     },
     "output_type": "display_data"
    },
    {
     "name": "stdout",
     "output_type": "stream",
     "text": [
      "Pourcentage: 0.6019144353563869\n",
      "MSE Ridge: 0.44661447267571963\n"
     ]
    }
   ],
   "source": [
    "hyperparametre={\"alpha\":[0.1,0.3,0.5,0.7,1,1.5,2]}\n",
    "tuned_lasso = GridSearchCV(Lasso(),hyperparametre,scoring=\"neg_mean_squared_error\",cv=5,return_train_score=True)\n",
    "\n",
    "tuned_lasso.fit(X_train,np.log(y_train))\n",
    "\n",
    "\n",
    "\n",
    "print(f\"Meilleur hyperparamètre pour un modele Lasso Regression: {tuned_lasso.best_params_}\")\n",
    "model_lasso = tuned_lasso.best_estimator_\n",
    "\n",
    "model_lasso.fit(X_train,np.log(y_train))\n",
    "pred_lasso = model_lasso.predict(X_test)\n",
    "\n",
    "test_scores = tuned_lasso.cv_results_['mean_test_score']\n",
    "train_scores = tuned_lasso.cv_results_['mean_train_score'] \n",
    "\n",
    "tuned_lasso.cv_results_.keys()\n",
    "\n",
    "plt.plot(hyperparametre[\"alpha\"],test_scores ,label='test')\n",
    "plt.plot(hyperparametre[\"alpha\"],train_scores, label='train')\n",
    "\n",
    "plt.show()\n",
    "\n",
    "\n",
    "print(f\"Pourcentage: {model_lasso.score(X_test,np.log(y_test))}\")\n",
    "\n",
    "print(f\"MSE Ridge: {mean_squared_error(pred_lasso,np.log(y_test))}\")\n"
   ]
  },
  {
   "cell_type": "markdown",
   "id": "d97243d2",
   "metadata": {},
   "source": [
    "## SVR"
   ]
  },
  {
   "cell_type": "code",
   "execution_count": 116,
   "id": "43ad3c5c",
   "metadata": {},
   "outputs": [
    {
     "name": "stdout",
     "output_type": "stream",
     "text": [
      "Meilleur hyperparamètre pour un modele SVR: {'epsilon': 0.1}\n"
     ]
    },
    {
     "data": {
      "image/png": "[encoded data removed]",
      "text/plain": [
       "<Figure size 432x288 with 1 Axes>"
      ]
     },
     "metadata": {
      "needs_background": "light"
     },
     "output_type": "display_data"
    },
    {
     "name": "stdout",
     "output_type": "stream",
     "text": [
      "Pourcentage: 0.6777620103120454\n",
      "MSE Ridge: 0.36152064436049336\n"
     ]
    }
   ],
   "source": [
    "params = {\"epsilon\":[0.1,0.2,0.5,0.7,1,1.5,3,5]}\n",
    "\n",
    "tuned_svr = GridSearchCV(SVR(),params,scoring=\"neg_mean_squared_error\",cv=5,return_train_score=True)\n",
    "\n",
    "tuned_svr.fit(X_train,np.log(y_train))\n",
    "\n",
    "\n",
    "print(f\"Meilleur hyperparamètre pour un modele SVR: {tuned_svr.best_params_}\")\n",
    "model_svr = tuned_svr.best_estimator_\n",
    "\n",
    "model_svr.fit(X_train,np.log(y_train))\n",
    "pred_svr = model_svr.predict(X_test)\n",
    "\n",
    "test_scores = tuned_svr.cv_results_['mean_test_score']\n",
    "train_scores = tuned_svr.cv_results_['mean_train_score'] \n",
    "\n",
    "\n",
    "plt.plot(params[\"epsilon\"],test_scores ,label='test')\n",
    "plt.plot(params[\"epsilon\"],train_scores, label='train')\n",
    "\n",
    "plt.show()\n",
    "\n",
    "\n",
    "print(f\"Pourcentage: {model_svr.score(X_test,np.log(y_test))}\")\n",
    "\n",
    "print(f\"MSE Ridge: {mean_squared_error(pred_svr,np.log(y_test))}\")\n"
   ]
  },
  {
   "cell_type": "markdown",
   "id": "18d8e8ab",
   "metadata": {},
   "source": [
    "## Random Forest"
   ]
  },
  {
   "cell_type": "code",
   "execution_count": 117,
   "id": "959a690c",
   "metadata": {},
   "outputs": [
    {
     "name": "stdout",
     "output_type": "stream",
     "text": [
      "Meilleur hyperparamètre pour un modele Random Forest: {'max_depth': 8, 'n_estimators': 200}\n",
      "Pourcentage: 0.7608610236178416\n",
      "MSE Ridge: 0.2682913858701322\n"
     ]
    }
   ],
   "source": [
    "params = {\"max_depth\":[2,4,8,16],\"n_estimators\":[100,200,300,400]}\n",
    "\n",
    "tuned_randforest = GridSearchCV(RandomForestRegressor(bootstrap=True,random_state=0),params,scoring=\"neg_mean_squared_error\",cv=5,return_train_score=True)\n",
    "\n",
    "tuned_randforest.fit(X_train,np.log(y_train))\n",
    "\n",
    "\n",
    "print(f\"Meilleur hyperparamètre pour un modele Random Forest: {tuned_randforest.best_params_}\")\n",
    "model_randforest = tuned_randforest.best_estimator_\n",
    "\n",
    "model_randforest.fit(X_train,np.log(y_train))\n",
    "pred_randforest = model_randforest.predict(X_test)\n",
    "\n",
    "\n",
    "print(f\"Pourcentage: {model_randforest.score(X_test,np.log(y_test))}\")\n",
    "\n",
    "print(f\"MSE Ridge: {mean_squared_error(pred_randforest,np.log(y_test))}\")\n"
   ]
  },
  {
   "cell_type": "code",
   "execution_count": null,
   "id": "ebf63b9e",
   "metadata": {},
   "outputs": [],
   "source": []
  }
 ],
 "metadata": {
  "kernelspec": {
   "display_name": "Python 3 (ipykernel)",
   "language": "python",
   "name": "python3"
  },
  "language_info": {
   "codemirror_mode": {
    "name": "ipython",
    "version": 3
   },
   "file_extension": ".py",
   "mimetype": "text/x-python",
   "name": "python",
   "nbconvert_exporter": "python",
   "pygments_lexer": "ipython3",
   "version": "3.11.4"
  }
 },
 "nbformat": 4,
 "nbformat_minor": 5
}
